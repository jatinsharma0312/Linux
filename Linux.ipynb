{
  "nbformat": 4,
  "nbformat_minor": 0,
  "metadata": {
    "colab": {
      "provenance": []
    },
    "kernelspec": {
      "name": "python3",
      "display_name": "Python 3"
    },
    "language_info": {
      "name": "python"
    }
  },
  "cells": [
    {
      "cell_type": "markdown",
      "source": [
        "# Linux"
      ],
      "metadata": {
        "id": "lWicsHJJMhaz"
      }
    },
    {
      "cell_type": "markdown",
      "source": [
        "Q1. What is Linux?\n",
        "   - Linux is a open-source operating system (OS) based on Unix. It is the software that manages all of the hardware resources associated with your computer and provides a platform for running applications.\n",
        "\n",
        "   1. Open Source:-\n",
        "\n",
        "     - The source code of Linux is freely available to everyone.\n",
        "\n",
        "     - You can view, modify, and distribute it under the terms of the GNU General Public License (GPL).\n",
        "\n",
        "   2. Kernel vs. Operating System:-\n",
        "\n",
        "     - Linux technically refers to the kernel, the core part of the OS that interacts directly with hardware.\n",
        "\n",
        "     - When people say \"Linux,\" they often mean a Linux distribution (like Ubuntu or Fedora), which includes the kernel plus software and tools.\n",
        "\n",
        "   3. Uses of Linux:-\n",
        "\n",
        "     - Servers: Linux dominates in web servers, cloud servers, and supercomputers.\n",
        "\n",
        "     - Desktops & Laptops: User-friendly versions like Ubuntu and Linux Mint are used by individuals.\n",
        "\n",
        "     - Embedded Systems: Linux is used in devices like routers, smart TVs, and Android phones.\n",
        "\n",
        "     - Programming & Development: Preferred for its powerful tools and flexibility.\n",
        "\n",
        "   6. Command Line Interface (CLI):-\n",
        "\n",
        "     - While many Linux distributions offer a graphical user interface (GUI), power users often prefer the command line for control and automation.  \n",
        "\n",
        "Q2. What is the difference between Hard Link & Soft Link ?\n",
        "    \n",
        "  - The difference between Hard Link and Soft Link in Linux is based on how they point to files and how they behave when the original file is modified or deleted.\n",
        "\n",
        "  - Hard Link: it points directly to the file's data on disk, not the file name.\n",
        "  \n",
        "    - Points directly to the inode (actual data) of the file.\n",
        "\n",
        "    - Does not break if the original file is deleted.\n",
        "\n",
        "    - All hard links are equal — no concept of “original” or “copy”.\n",
        "\n",
        "    - Only valid within the same filesystem.\n",
        "\n",
        "    - Cannot link to directories.\n",
        "\n",
        "  - Soft Link: it contains a path to another file name.\n",
        "\n",
        "    - Points to the file name, not the data (inode).\n",
        "\n",
        "    - Breaks if the original file is deleted (resulting in a \"dangling link\").\n",
        "\n",
        "    - Can cross file systems.\n",
        "\n",
        "    - Can link to directories.\n",
        "\n",
        "Q3.  What is a Kernel in Linux?\n",
        "\n",
        "  - The kernel is the core part of the Linux operating system. It acts as a bridge between the hardware of your computer and the software/applications you run.\n",
        "\n",
        "  - Hardware Management\n",
        "\n",
        "    - Controls devices like CPU, memory, disk drives, keyboards, and network cards.\n",
        "\n",
        "  - Memory Management\n",
        "\n",
        "    - Allocates and frees RAM for processes.\n",
        "\n",
        "    - Keeps programs from interfering with each other's memory.\n",
        "\n",
        "  - Process Management\n",
        "\n",
        "    - Starts, stops, schedules, and coordinates processes.\n",
        "\n",
        "  - File System Management\n",
        "\n",
        "    - Manages how files are stored and retrieved from disks.\n",
        "\n",
        "  - System Calls & Security\n",
        "\n",
        "    - Provides a secure way for applications to interact with the system via system calls.\n",
        "\n",
        "Q4.  How do you create a user account?\n",
        "  - To create a user account in Linux, you typically use the \"useradd\" or \"adduser\" command from the terminal.\n",
        "\n",
        "  - 1.Basic Command to Create a User:\n",
        "    - sudo useradd \"{username}\"\n",
        "\n",
        "  - 2.Set Password for the User:\n",
        "    - sudo passwd \"{username}\"\n",
        "\n",
        "  - 3.Create a Home Directory:\n",
        "    - sudo useradd -m \"{username}\"\n",
        "    - \"Home directory will be at /home/{username}\"\n",
        "\n",
        "  - 4.Create User with Default Shell and Home:\n",
        "    - sudo useradd -m -s /bin/bash {username}\n",
        "\n",
        "Q5. What is the 'grep' command used for in Linux?\n",
        "  - The \"grep\" command is used to search for text patterns in files or output. It stands for \"Global Regular Expression Print\".\n",
        "\n",
        "  - It's one of the most powerful and frequently used commands for text processing in Linux.\n",
        "\n",
        "  -  1.Basic Syntax:\n",
        "    - grep [options] pattern [file...]\n",
        "\n",
        "  - 2.Search for a word in a file\n",
        "    - grep \"hello\" file.txt\n",
        "\n",
        "Q6.\n",
        "  - Step 1: Create user p1.\n",
        "  \n",
        "  - Step2: He should be part of 3 groups g1,g2,g3.\n",
        "\n",
        "  - Step3: whenever he creates a file automatically in the group section of file grp g1 should come."
      ],
      "metadata": {
        "id": "7zpl9mU5Mk6X"
      }
    },
    {
      "cell_type": "code",
      "source": [
        "# Step 1: Create user p1\n",
        "!sudo useradd -m p1\n",
        "\n",
        "# Step 2: Create and add user to groups g1, g2, g3\n",
        "!sudo groupadd g1\n",
        "!sudo groupadd g2\n",
        "!sudo groupadd g3\n",
        "!sudo usermod -aG g1,g2,g3 p1\n",
        "\n",
        "# Step 3: Set g1 as the primary group of user p1\n",
        "!sudo usermod -g g1 p1\n",
        "\n"
      ],
      "metadata": {
        "colab": {
          "base_uri": "https://localhost:8080/"
        },
        "id": "o8Z3hFmLbluu",
        "outputId": "b1ca4aba-57e9-42d8-9a80-fe6547252896"
      },
      "execution_count": null,
      "outputs": [
        {
          "output_type": "stream",
          "name": "stdout",
          "text": [
            "groupadd: group 'g1' already exists\n",
            "groupadd: group 'g2' already exists\n",
            "groupadd: group 'g3' already exists\n"
          ]
        }
      ]
    },
    {
      "cell_type": "markdown",
      "source": [
        "Q7. Step1: Create directory /tmp/bg as root user and create files inside it.\n",
        "\n",
        " Step2: “abhi” should be the owner of the directory. He should be able to create files and delete files inside the directory and also he should be able to add content to all files inside the directory."
      ],
      "metadata": {
        "id": "ubiOleInc9J_"
      }
    },
    {
      "cell_type": "code",
      "source": [
        "# Step 1: Create directory and files as root\n",
        "!sudo mkdir -p /tmp/bg\n",
        "!sudo touch /tmp/bg/file1 /tmp/bg/file2\n",
        "\n",
        "# Step 2: Create user abhi if not already created\n",
        "!sudo useradd -m abhi\n",
        "\n",
        "# Step 3: Change ownership of the directory to abhi\n",
        "!sudo chown -R abhi /tmp/bg\n",
        "\n",
        "# Step 4: Set permissions so that only abhi can read/write/delete inside /tmp/bg\n",
        "!sudo chmod 700 /tmp/bg\n"
      ],
      "metadata": {
        "colab": {
          "base_uri": "https://localhost:8080/"
        },
        "id": "r9R3DCQ1dn8p",
        "outputId": "58c1464b-f030-48e0-f5fc-04d495913458"
      },
      "execution_count": null,
      "outputs": [
        {
          "output_type": "stream",
          "name": "stdout",
          "text": [
            "useradd: user 'abhi' already exists\n"
          ]
        }
      ]
    },
    {
      "cell_type": "markdown",
      "source": [
        "Q8. You suspect that a particular process is consuming excessive CPU resources on your Linux server. How\n",
        "would you identify and terminate this process?\n",
        " - To identify and terminate a process consuming excessive CPU on a Linux server, follow these steps:"
      ],
      "metadata": {
        "id": "xmlwg43-ePU5"
      }
    },
    {
      "cell_type": "code",
      "source": [
        "# Step 1: Identify high CPU usage process\n",
        "!ps -eo pid,ppid,cmd,%cpu,%mem --sort=-%cpu | head\n",
        "\n",
        "# Step 2: (Replace <PID> with actual process ID from above)\n",
        "# View details of the process\n",
        "!ps -p <PID> -o pid,ppid,cmd,%cpu,%mem\n",
        "\n",
        "# Step 3: Terminate the process gracefully\n",
        "!kill <PID>\n",
        "\n",
        "# Step 4: If the process does not stop, force kill it\n",
        "!kill -9 <PID>\n"
      ],
      "metadata": {
        "colab": {
          "base_uri": "https://localhost:8080/"
        },
        "id": "fA9TUgaKe4rh",
        "outputId": "e6dbaef2-837f-4cbe-d538-f5b330d30573"
      },
      "execution_count": null,
      "outputs": [
        {
          "output_type": "stream",
          "name": "stdout",
          "text": [
            "    PID    PPID CMD                         %CPU %MEM\n",
            "     69       7 [python3] <defunct>          0.3  0.0\n",
            "    187      91 /usr/bin/python3 -m colab_k  0.3  0.8\n",
            "    258     251 node /datalab/web/pyright/p  0.3  1.0\n",
            "      7       1 /tools/node/bin/node /datal  0.1  0.5\n",
            "     91       7 /usr/bin/python3 /usr/local  0.1  1.0\n",
            "      1       0 /sbin/docker-init -- /datal  0.0  0.0\n",
            "     15       7 /bin/bash -e /usr/local/col  0.0  0.0\n",
            "     17       1 /bin/bash -e /datalab/run.s  0.0  0.0\n",
            "     19      17 /usr/colab/bin/kernel_manag  0.0  0.1\n",
            "/bin/bash: line 1: PID: No such file or directory\n",
            "/bin/bash: -c: line 1: syntax error near unexpected token `newline'\n",
            "/bin/bash: -c: line 1: `kill <PID>'\n",
            "/bin/bash: -c: line 1: syntax error near unexpected token `newline'\n",
            "/bin/bash: -c: line 1: `kill -9 <PID>'\n"
          ]
        }
      ]
    }
  ]
}